{
 "cells": [
  {
   "cell_type": "code",
   "execution_count": 21,
   "metadata": {},
   "outputs": [
    {
     "name": "stdout",
     "output_type": "stream",
     "text": [
      "COMPETITION\n",
      "The first biological lesson of history is that life is competition.\n",
      "War, or competition, is the father of all things, the potent source of ideas, inventions, institutions, and states.\n",
      "God plays dice with the universe. But they’re loaded dice. And the main objective is to find out by what rules they were loaded and how we can use them for our own ends.\n",
      "Error: 429 - {\n",
      "    \"error\": {\n",
      "        \"message\": \"Rate limit reached for tts-1 in organization org-NSiCfF7yvfZu4ow7YoYPCQmt on requests per min (RPM): Limit 3, Used 3, Requested 1. Please try again in 20s. Visit https://platform.openai.com/account/rate-limits to learn more.\",\n",
      "        \"type\": \"requests\",\n",
      "        \"param\": null,\n",
      "        \"code\": \"rate_limit_exceeded\"\n",
      "    }\n",
      "}\n",
      "\n",
      "Today I will defeat who I was yesterday; tomorrow I will defeat the less skillful, and after that, I will defeat the more skilled.\n",
      "Forge yourself with a thousand days of training, and polish yourself with ten thousand days of practice.\n",
      "Error: 429 - {\n",
      "    \"error\": {\n",
      "        \"message\": \"Rate limit reached for tts-1 in organization org-NSiCfF7yvfZu4ow7YoYPCQmt on requests per min (RPM): Limit 3, Used 3, Requested 1. Please try again in 20s. Visit https://platform.openai.com/account/rate-limits to learn more.\",\n",
      "        \"type\": \"requests\",\n",
      "        \"param\": null,\n",
      "        \"code\": \"rate_limit_exceeded\"\n",
      "    }\n",
      "}\n",
      "\n",
      "Why be concerned about others when you’ve outdone your own self?\n",
      "Error: 429 - {\n",
      "    \"error\": {\n",
      "        \"message\": \"Rate limit reached for tts-1 in organization org-NSiCfF7yvfZu4ow7YoYPCQmt on requests per min (RPM): Limit 3, Used 3, Requested 1. Please try again in 20s. Visit https://platform.openai.com/account/rate-limits to learn more.\",\n",
      "        \"type\": \"requests\",\n",
      "        \"param\": null,\n",
      "        \"code\": \"rate_limit_exceeded\"\n",
      "    }\n",
      "}\n",
      "\n"
     ]
    },
    {
     "ename": "KeyboardInterrupt",
     "evalue": "",
     "output_type": "error",
     "traceback": [
      "\u001b[0;31m---------------------------------------------------------------------------\u001b[0m",
      "\u001b[0;31mKeyboardInterrupt\u001b[0m                         Traceback (most recent call last)",
      "Cell \u001b[0;32mIn[21], line 45\u001b[0m\n\u001b[1;32m     43\u001b[0m     text_to_speech(sentence)\n\u001b[1;32m     44\u001b[0m     time\u001b[38;5;241m.\u001b[39msleep(\u001b[38;5;241m1\u001b[39m)\n\u001b[0;32m---> 45\u001b[0m \u001b[43mtime\u001b[49m\u001b[38;5;241;43m.\u001b[39;49m\u001b[43msleep\u001b[49m\u001b[43m(\u001b[49m\u001b[38;5;241;43m3\u001b[39;49m\u001b[43m)\u001b[49m\n",
      "\u001b[0;31mKeyboardInterrupt\u001b[0m: "
     ]
    }
   ],
   "source": [
    "import streamlit as st\n",
    "import time, requests, os\n",
    "# text to speech\n",
    "# playing speech\n",
    "from playsound import playsound\n",
    "\n",
    "from env import OPENAI_API_KEY\n",
    "\n",
    "def _process_chunk(chunk):\n",
    "    lines = chunk.split(\"\\n\")\n",
    "    return [sentence for sentence in lines if len(sentence) > 1]\n",
    "\n",
    "def text_to_speech(message: str, language = \"en\"):\n",
    "    # text to speech\n",
    "    response = requests.post(\"https://api.openai.com/v1/audio/speech\", \\\n",
    "        headers={\"Authorization\": f\"Bearer {OPENAI_API_KEY}\"}, \\\n",
    "        json={\"model\": \"tts-1\", \\\n",
    "              \"input\": message, \\\n",
    "              \"voice\": \"onyx\", \\\n",
    "              \"speed\": 1.0})\n",
    "    if response.status_code == 200:   \n",
    "        # save output\n",
    "        with open(\"output.mp3\", 'wb') as f:\n",
    "            f.write(response.content)\n",
    "        playsound('output.mp3')\n",
    "        os.remove(\"output.mp3\")\n",
    "    else:\n",
    "        print(f\"Error: {response.status_code} - {response.text}\")\n",
    "\n",
    "#if __name__==\"__main__\":\n",
    "    # parse personal.txt\n",
    "    # list of strings split based on \\n\\n\\n\n",
    "with open(\"personal.txt\", \"r\") as f:\n",
    "    personal = f.read().split(\"\\n\\n\\n\")\n",
    "\n",
    "    trimmed_file = [section for section in personal if len(section) > 5]\n",
    "\n",
    "    # for each major section, process chunk into smaller sentences before continuing\n",
    "    for idx, chunk in enumerate(trimmed_file):\n",
    "        iterated_list = _process_chunk(chunk)\n",
    "        for sentence in iterated_list:\n",
    "            print(sentence)\n",
    "            text_to_speech(sentence)\n",
    "            time.sleep(1)\n",
    "        time.sleep(3)\n",
    "\n",
    "    \n",
    "\n"
   ]
  },
  {
   "cell_type": "code",
   "execution_count": null,
   "metadata": {},
   "outputs": [],
   "source": []
  },
  {
   "cell_type": "code",
   "execution_count": null,
   "metadata": {},
   "outputs": [],
   "source": []
  },
  {
   "cell_type": "code",
   "execution_count": null,
   "metadata": {},
   "outputs": [],
   "source": []
  },
  {
   "cell_type": "code",
   "execution_count": null,
   "metadata": {},
   "outputs": [],
   "source": []
  },
  {
   "cell_type": "code",
   "execution_count": 31,
   "metadata": {},
   "outputs": [],
   "source": [
    "\n"
   ]
  },
  {
   "cell_type": "code",
   "execution_count": null,
   "metadata": {},
   "outputs": [],
   "source": []
  }
 ],
 "metadata": {
  "kernelspec": {
   "display_name": "audio_env",
   "language": "python",
   "name": "python3"
  },
  "language_info": {
   "codemirror_mode": {
    "name": "ipython",
    "version": 3
   },
   "file_extension": ".py",
   "mimetype": "text/x-python",
   "name": "python",
   "nbconvert_exporter": "python",
   "pygments_lexer": "ipython3",
   "version": "3.10.7"
  }
 },
 "nbformat": 4,
 "nbformat_minor": 2
}
