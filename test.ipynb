{
 "cells": [
  {
   "cell_type": "code",
   "execution_count": 10,
   "metadata": {},
   "outputs": [
    {
     "name": "stdout",
     "output_type": "stream",
     "text": [
      "COMPETITION\n",
      "The first biological lesson of history is that life is competition.\n",
      "War, or competition, is the father of all things, the potent source of ideas, inventions, institutions, and states.\n",
      "“God plays dice with the universe. But they’re loaded dice. And the main objective is to find out by what rules they were loaded and how we can use them for our own ends.”\n",
      "“Today I will defeat who I was yesterday; tomorrow I will defeat the less skillful, and after that, I will defeat the more skilled.”\n",
      "Forge yourself with a thousand days of training, and polish yourself with ten thousand days of practice.\n",
      "Why be concerned about others when you’ve outdone your own self?\n",
      "PROCESS \n",
      "Produce something from your own resources. The men who pioneered the old routes are leaders, not our masters. Truth lies open to everyone. \n",
      "For nature does not give a man virtue: the process of becoming a good man is an art.\n",
      "If there is any one ‘secret’ of effectiveness, it is concentration. \n",
      "“Right now we’ve got pilaf in front of us; let our minds be pilaf. Tomorrow we’ll have lignite in front of us, so let our minds, then, be lignite. No half measures – understand?”\n",
      "It is not the shortage of time that should worry us, but the tendency for the majority of time to be spent in low-quality ways.\n",
      "All other problems out. Only one problem and just concentrate on this one.\n",
      "Mistakes are inevitable and it’s important to realize and accept this fact of life.\n",
      "Listen more than you speak.\n",
      "We must operate with partial knowledge, and be provisionally content with probabilities.\n",
      "The greatest wisdom not applied to action and behavior is meaningless data.\n",
      "LIVING \n",
      "You have no responsibility to live up to what other people think you ought to accomplish. I have no responsibility to be like they expect me to be. It’s their mistake, not my failing.\n",
      "Only by sampling what the universe has to offer can we learn anything of value.\n",
      "“What can you say? So far as I know, Your Excellency has never gone hungry, never killed, never stolen, never committed adultery. So, what can you know about the world? Immature mind, inexperienced body.”\n",
      "“Are we going to keep on saying words? Look here, what I’m telling you is that this world is a mystery and every human being is a great brute – a great brute and a great god.”\n",
      "PEACE AND TRANQUILITY\n",
      "But the boy was quiet. He was at home with the silence of the desert, and he was content just to look at the trees. He still had a long way to go to reach the pyramids, and someday this morning would just be a memory. But this was the present moment… and he wanted to live it as he did the lessons of his past and his dreams of the future.\n",
      "God having brought another dawn, I opened my eyes and saw Zorba sitting cross-legged opposite me on the edge of his bed in deep meditation, smoking… He seemed submerged in dense elation, having surrendered himself with tranquil passivity to a half-obscured river that moved sluggishly as honey. The entire world – earth, water, thoughts, people – was flowing toward a distant sea, and Zorba was flowing happily with it, offering no resistance asking no questions.\n",
      "I’m fine right here. May this moment last for years!\n",
      "“Contentedly adrift in the cosmos, were you? That is a perfect description of a non-epiphany, that rarest of moments, when God Almighty lets go of the scruff of your neck and lets you be human for a little while.” The epiphany came back, and everybody had to put on their clothes and run around again like chickens with their heads cut off.\n",
      "“Let’s leave all that. We’ve said a lot. Today: work!”\n"
     ]
    }
   ],
   "source": [
    "import streamlit as st\n",
    "import time, requests\n",
    "# text to speech\n",
    "# playing speech\n",
    "from playsound import playsound\n",
    "\n",
    "from env import OPENAI_API_KEY\n",
    "\n",
    "def _process_chunk(chunk):\n",
    "    lines = chunk.split(\"\\n\")\n",
    "    return [sentence for sentence in lines if len(sentence) > 1]\n",
    "\n",
    "def text_to_speech(message: str, language = \"en\"):\n",
    "    # text to speech\n",
    "    response = requests.post(\"https://api.openai.com/v1/audio/speech\", \\\n",
    "        headers={\"Authorization\": f\"Bearer {OPENAI_API_KEY}\"}, \\\n",
    "        data={\"model\": \"tts-1\", \"input\": message, \"voice\"= \"onyx\"})\n",
    "\n",
    "    speech = gTTS(text=message, lang=language)\n",
    "    speech.save('output.mp3')\n",
    "    playsound('output.mp3')\n",
    "\n",
    "\n",
    "#if __name__==\"__main__\":\n",
    "    # parse personal.txt\n",
    "    # list of strings split based on \\n\\n\\n\n",
    "with open(\"personal.txt\", \"r\") as f:\n",
    "    personal = f.read().split(\"\\n\\n\\n\")\n",
    "\n",
    "    trimmed_file = [section for section in personal if len(section) > 5]\n",
    "\n",
    "    # for each major section, process chunk into smaller sentences before continuing\n",
    "    for idx, chunk in enumerate(trimmed_file):\n",
    "        iterated_list = _process_chunk(chunk)\n",
    "        for sentence in iterated_list:\n",
    "            print(sentence)\n",
    "            text_to_speech(sentence)\n",
    "            time.sleep(1)\n",
    "        time.sleep(3)\n",
    "\n",
    "    \n",
    "\n"
   ]
  },
  {
   "cell_type": "code",
   "execution_count": null,
   "metadata": {},
   "outputs": [],
   "source": []
  },
  {
   "cell_type": "code",
   "execution_count": null,
   "metadata": {},
   "outputs": [],
   "source": []
  },
  {
   "cell_type": "code",
   "execution_count": null,
   "metadata": {},
   "outputs": [],
   "source": []
  },
  {
   "cell_type": "code",
   "execution_count": null,
   "metadata": {},
   "outputs": [],
   "source": []
  },
  {
   "cell_type": "code",
   "execution_count": 31,
   "metadata": {},
   "outputs": [],
   "source": [
    "\n"
   ]
  },
  {
   "cell_type": "code",
   "execution_count": null,
   "metadata": {},
   "outputs": [],
   "source": []
  }
 ],
 "metadata": {
  "kernelspec": {
   "display_name": "audio_env",
   "language": "python",
   "name": "python3"
  },
  "language_info": {
   "codemirror_mode": {
    "name": "ipython",
    "version": 3
   },
   "file_extension": ".py",
   "mimetype": "text/x-python",
   "name": "python",
   "nbconvert_exporter": "python",
   "pygments_lexer": "ipython3",
   "version": "3.10.7"
  }
 },
 "nbformat": 4,
 "nbformat_minor": 2
}
